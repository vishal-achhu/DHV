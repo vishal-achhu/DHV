{
  "nbformat": 4,
  "nbformat_minor": 0,
  "metadata": {
    "colab": {
      "provenance": [],
      "authorship_tag": "ABX9TyPBpX3i4Un6F+cK8vlGQkC9",
      "include_colab_link": true
    },
    "kernelspec": {
      "name": "python3",
      "display_name": "Python 3"
    },
    "language_info": {
      "name": "python"
    }
  },
  "cells": [
    {
      "cell_type": "markdown",
      "metadata": {
        "id": "view-in-github",
        "colab_type": "text"
      },
      "source": [
        "<a href=\"https://colab.research.google.com/github/vishal-achhu/DHV/blob/main/numpy.ipynb\" target=\"_parent\"><img src=\"https://colab.research.google.com/assets/colab-badge.svg\" alt=\"Open In Colab\"/></a>"
      ]
    },
    {
      "cell_type": "code",
      "source": [
        "import numpy as np\n",
        "\n",
        "\n",
        "array_1d = np.array([1, 2, 3, 4, 5])\n",
        "\n",
        "\n",
        "\n",
        "print(array_1d.shape)\n",
        "print(array_1d.size)\n",
        "print(array_1d.ndim)\n",
        "print(len(array_1d))\n",
        "\n",
        "\n",
        "\n",
        "array_2d = np.array([[1, 2, 3],\n",
        "                     [4, 5, 6]])\n",
        "\n",
        "\n",
        "\n",
        "print(array_2d.shape)\n",
        "print(array_2d.size)\n",
        "print(array_2d.ndim)\n",
        "print(len(array_2d))\n",
        "\n",
        "\n",
        "\n",
        "array_3d = np.array([[[1, 2, 3],\n",
        "                      [4, 5, 6]],\n",
        "\n",
        "                     [[7, 8, 9],\n",
        "                      [10, 11, 12]]])\n",
        "\n",
        "\n",
        "\n",
        "print(array_3d.shape)\n",
        "print(array_3d.size)\n",
        "print(array_3d.ndim)\n",
        "print(len(array_3d))\n"
      ],
      "metadata": {
        "colab": {
          "base_uri": "https://localhost:8080/"
        },
        "id": "LIv55FCHti2A",
        "outputId": "922d4a01-25fe-47ce-f982-0a4231cde046"
      },
      "execution_count": 17,
      "outputs": [
        {
          "output_type": "stream",
          "name": "stdout",
          "text": [
            "(5,)\n",
            "5\n",
            "1\n",
            "5\n",
            "(2, 3)\n",
            "6\n",
            "2\n",
            "2\n",
            "(2, 2, 3)\n",
            "12\n",
            "3\n",
            "2\n"
          ]
        }
      ]
    },
    {
      "cell_type": "code",
      "source": [
        "a_example = np.arange(1, 10, 2)\n",
        "print(a_example)\n",
        "\n",
        "\n",
        "randint_example = np.random.randint(1, 100, size=(3, 3))\n",
        "print(randint_example)\n",
        "\n",
        "\n",
        "rand_example = np.random.rand(2, 3)\n",
        "print(rand_example)\n",
        "\n",
        "\n",
        "lspace_example = np.linspace(1, 10, num=5)\n",
        "print(lspace_example)\n",
        "\n",
        "\n",
        "ones_example = np.ones((2, 3))\n",
        "print(ones_example)\n",
        "\n",
        "\n",
        "zeros_example = np.zeros((3, 2))\n",
        "print(zeros_example)\n",
        "\n",
        "\n",
        "diag_example = np.diag([1, 2, 3])\n",
        "print(diag_example)\n"
      ],
      "metadata": {
        "colab": {
          "base_uri": "https://localhost:8080/"
        },
        "id": "R6pyVVdYuY-Z",
        "outputId": "1808b347-eb2c-451c-de1f-a1f9a001f0ec"
      },
      "execution_count": 19,
      "outputs": [
        {
          "output_type": "stream",
          "name": "stdout",
          "text": [
            "[1 3 5 7 9]\n",
            "[[45 55 22]\n",
            " [46 70 59]\n",
            " [34 19 65]]\n",
            "[[6.64655457e-04 8.08034122e-01 6.19822466e-01]\n",
            " [9.58081797e-01 7.06498791e-01 4.28310287e-02]]\n",
            "[ 1.    3.25  5.5   7.75 10.  ]\n",
            "[[1. 1. 1.]\n",
            " [1. 1. 1.]]\n",
            "[[0. 0.]\n",
            " [0. 0.]\n",
            " [0. 0.]]\n",
            "[[1 0 0]\n",
            " [0 2 0]\n",
            " [0 0 3]]\n"
          ]
        }
      ]
    },
    {
      "cell_type": "code",
      "source": [
        "marks= np.random.randint(0, 101, size=10)\n",
        "print(marks)"
      ],
      "metadata": {
        "colab": {
          "base_uri": "https://localhost:8080/"
        },
        "id": "1iAKadUFwwAv",
        "outputId": "09f2bb7f-73ff-41fd-ef39-8f7c48eafb6f"
      },
      "execution_count": 22,
      "outputs": [
        {
          "output_type": "stream",
          "name": "stdout",
          "text": [
            "[49 86  7 99 44 24 65 35 34  4]\n"
          ]
        }
      ]
    },
    {
      "cell_type": "code",
      "source": [
        "f_marks= marks[marks < 30]\n",
        "print(f_marks)"
      ],
      "metadata": {
        "colab": {
          "base_uri": "https://localhost:8080/"
        },
        "id": "0b2K1io3x-8I",
        "outputId": "290a2c86-8745-4d70-d926-649367128a7b"
      },
      "execution_count": 24,
      "outputs": [
        {
          "output_type": "stream",
          "name": "stdout",
          "text": [
            "[ 7 24  4]\n"
          ]
        }
      ]
    },
    {
      "cell_type": "code",
      "source": [
        "pmarks=marks[marks>=30]\n",
        "print(pmarks)"
      ],
      "metadata": {
        "colab": {
          "base_uri": "https://localhost:8080/"
        },
        "id": "nES0TBifySqo",
        "outputId": "0f9df72d-fdd6-4a12-9322-af89914428ac"
      },
      "execution_count": 25,
      "outputs": [
        {
          "output_type": "stream",
          "name": "stdout",
          "text": [
            "[49 86 99 44 65 35 34]\n"
          ]
        }
      ]
    },
    {
      "cell_type": "code",
      "source": [
        "rand2d=([np.random.ranint(0,50,size=5)],[np.random.ranint(0,50,size=5)])"
      ],
      "metadata": {
        "colab": {
          "base_uri": "https://localhost:8080/",
          "height": 141
        },
        "id": "-49-Ir2RydKn",
        "outputId": "204cd626-a67f-4995-db05-3ed413477000"
      },
      "execution_count": 27,
      "outputs": [
        {
          "output_type": "error",
          "ename": "AttributeError",
          "evalue": "module 'numpy.random' has no attribute 'ranint'",
          "traceback": [
            "\u001b[0;31m---------------------------------------------------------------------------\u001b[0m",
            "\u001b[0;31mAttributeError\u001b[0m                            Traceback (most recent call last)",
            "\u001b[0;32m<ipython-input-27-c671acdeffe0>\u001b[0m in \u001b[0;36m<cell line: 1>\u001b[0;34m()\u001b[0m\n\u001b[0;32m----> 1\u001b[0;31m \u001b[0mrand2d\u001b[0m\u001b[0;34m=\u001b[0m\u001b[0;34m(\u001b[0m\u001b[0;34m[\u001b[0m\u001b[0mnp\u001b[0m\u001b[0;34m.\u001b[0m\u001b[0mrandom\u001b[0m\u001b[0;34m.\u001b[0m\u001b[0mranint\u001b[0m\u001b[0;34m(\u001b[0m\u001b[0;36m0\u001b[0m\u001b[0;34m,\u001b[0m\u001b[0;36m50\u001b[0m\u001b[0;34m,\u001b[0m\u001b[0msize\u001b[0m\u001b[0;34m=\u001b[0m\u001b[0;36m5\u001b[0m\u001b[0;34m)\u001b[0m\u001b[0;34m]\u001b[0m\u001b[0;34m,\u001b[0m\u001b[0;34m[\u001b[0m\u001b[0mnp\u001b[0m\u001b[0;34m.\u001b[0m\u001b[0mrandom\u001b[0m\u001b[0;34m.\u001b[0m\u001b[0mranint\u001b[0m\u001b[0;34m(\u001b[0m\u001b[0;36m0\u001b[0m\u001b[0;34m,\u001b[0m\u001b[0;36m50\u001b[0m\u001b[0;34m,\u001b[0m\u001b[0msize\u001b[0m\u001b[0;34m=\u001b[0m\u001b[0;36m5\u001b[0m\u001b[0;34m)\u001b[0m\u001b[0;34m]\u001b[0m\u001b[0;34m)\u001b[0m\u001b[0;34m\u001b[0m\u001b[0;34m\u001b[0m\u001b[0m\n\u001b[0m",
            "\u001b[0;31mAttributeError\u001b[0m: module 'numpy.random' has no attribute 'ranint'"
          ]
        }
      ]
    },
    {
      "cell_type": "code",
      "source": [
        "rows = 3\n",
        "cols = 4\n",
        "random_2d_array = np.random.rand(rows, cols)\n",
        "print(random_2d_array)"
      ],
      "metadata": {
        "colab": {
          "base_uri": "https://localhost:8080/"
        },
        "id": "BOO8vykczOAw",
        "outputId": "4e00c4da-3a4d-466b-cd49-c66cad1087a2"
      },
      "execution_count": 28,
      "outputs": [
        {
          "output_type": "stream",
          "name": "stdout",
          "text": [
            "[[0.36050331 0.67434317 0.93358924 0.53427294]\n",
            " [0.178961   0.32138254 0.33520617 0.90115123]\n",
            " [0.49950215 0.0777074  0.43575155 0.37651433]]\n"
          ]
        }
      ]
    },
    {
      "cell_type": "code",
      "source": [],
      "metadata": {
        "id": "U-q8xwBRzhj3"
      },
      "execution_count": null,
      "outputs": []
    }
  ]
}